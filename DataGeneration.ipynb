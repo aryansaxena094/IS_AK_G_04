{
 "cells": [
  {
   "cell_type": "code",
   "execution_count": 95,
   "metadata": {},
   "outputs": [],
   "source": [
    "import pandas as pd\n",
    "from rdflib import Graph, Literal, RDF, URIRef, Namespace\n",
    "from rdflib.namespace import XSD\n",
    "import urllib.parse\n",
    "import csv"
   ]
  },
  {
   "cell_type": "code",
   "execution_count": 96,
   "metadata": {},
   "outputs": [],
   "source": [
    "#CSV Files:\n",
    "coursecsv = 'Concordia_Data/data.csv'\n",
    "studentcsv = 'Concordia_Data/students.csv'\n",
    "lecturescsv = 'Concordia_Data/lectures.csv'\n",
    "topicscsv = 'Concordia_Data/topics.csv'\n",
    "\n",
    "# TTL Files: (Generated)\n",
    "courseDataPath = 'Data/Courses.ttl'\n",
    "studentsDataPath = 'Data/Students.ttl'\n",
    "lectureDataPath = 'Data/Lectures.ttl'\n",
    "topicDataPath = 'Data/Topics.ttl'"
   ]
  },
  {
   "cell_type": "code",
   "execution_count": 97,
   "metadata": {},
   "outputs": [],
   "source": [
    "g = Graph()\n",
    "ex = Namespace(\"http://example.org/vocab/\")\n",
    "foaf = Namespace(\"http://xmlns.com/foaf/0.1/\")\n",
    "rdf = Namespace(\"http://www.w3.org/1999/02/22-rdf-syntax-ns#\")\n",
    "rdfs = Namespace(\"http://www.w3.org/2000/01/rdf-schema#\")\n",
    "xsd = Namespace(\"http://www.w3.org/2001/XMLSchema#\")\n",
    "g.bind(\"ex\", ex)\n",
    "g.bind(\"foaf\", foaf)\n",
    "g.bind(\"rdf\", rdf)\n",
    "g.bind(\"rdfs\", rdfs)\n",
    "g.bind(\"xsd\", xsd)"
   ]
  },
  {
   "cell_type": "code",
   "execution_count": 98,
   "metadata": {},
   "outputs": [
    {
     "data": {
      "text/plain": [
       "<Graph identifier=Ndfc0d0661cfd46f18f39475749846541 (<class 'rdflib.graph.Graph'>)>"
      ]
     },
     "execution_count": 98,
     "metadata": {},
     "output_type": "execute_result"
    }
   ],
   "source": [
    "catalog_df = pd.read_csv(coursecsv, encoding='utf-16')\n",
    "for index, row in catalog_df.iterrows():\n",
    "    course_id_str = str(row['Course ID'])\n",
    "    course_uri = URIRef(f\"http://example.org/vocab/course/{urllib.parse.quote(course_id_str)}\")\n",
    "    g.add((course_uri, RDF.type, ex.Course))\n",
    "    g.add((course_uri, ex.subject, Literal(row['Subject'], datatype=XSD.string)))\n",
    "    g.add((course_uri, ex.number, Literal(row['Catalog'], datatype=XSD.string)))\n",
    "    g.add((course_uri, ex.description, Literal(row['Long Title'], datatype=XSD.string)))\n",
    "    g.add((course_uri, ex.credits, Literal(row['Class Units'], datatype=XSD.decimal)))\n",
    "    if not pd.isnull(row['Pre Requisite Description']):\n",
    "        g.add((course_uri, ex.preRequisiteDescription, Literal(row['Pre Requisite Description'], datatype=XSD.string)))\n",
    "    if not pd.isnull(row['Equivalent Courses']):\n",
    "        g.add((course_uri, ex.equivalentCourses, Literal(row['Equivalent Courses'], datatype=XSD.string)))\n",
    "g.serialize(destination=courseDataPath, format='turtle')"
   ]
  },
  {
   "cell_type": "code",
   "execution_count": 99,
   "metadata": {},
   "outputs": [],
   "source": [
    "g = Graph()\n",
    "ex = Namespace(\"http://example.org/vocab/\")\n",
    "foaf = Namespace(\"http://xmlns.com/foaf/0.1/\")\n",
    "rdf = Namespace(\"http://www.w3.org/1999/02/22-rdf-syntax-ns#\")\n",
    "rdfs = Namespace(\"http://www.w3.org/2000/01/rdf-schema#\")\n",
    "xsd = Namespace(\"http://www.w3.org/2001/XMLSchema#\")\n",
    "g.bind(\"ex\", ex)\n",
    "g.bind(\"foaf\", foaf)\n",
    "g.bind(\"rdf\", rdf)\n",
    "g.bind(\"rdfs\", rdfs)\n",
    "g.bind(\"xsd\", xsd)"
   ]
  },
  {
   "cell_type": "code",
   "execution_count": 100,
   "metadata": {},
   "outputs": [
    {
     "data": {
      "text/plain": [
       "<Graph identifier=N62a22745c0804d91a7d42d2f389857d4 (<class 'rdflib.graph.Graph'>)>"
      ]
     },
     "execution_count": 100,
     "metadata": {},
     "output_type": "execute_result"
    }
   ],
   "source": [
    "students_df = pd.read_csv(studentcsv)\n",
    "\n",
    "for index, row in students_df.iterrows():\n",
    "    student_uri = ex[f'student/{urllib.parse.quote(row[\"id_number\"])}']\n",
    "    g.add((student_uri, RDF.type, ex.Student))\n",
    "    g.add((student_uri, foaf.name, Literal(f\"{row['first_name']} {row['last_name']}\", datatype=XSD.string)))\n",
    "    g.add((student_uri, foaf.mbox, Literal(row['email'], datatype=XSD.string)))\n",
    "    g.add((student_uri, ex.studentID, Literal(row['id_number'], datatype=XSD.string)))\n",
    "    for i in range(1, 6): \n",
    "        course_uri = ex[f'course/{row[f\"course_{i}_id\"]}']\n",
    "        g.add((student_uri, ex.completedCourse, course_uri))\n",
    "        g.add((student_uri, ex.hasCompetency, course_uri)) \n",
    "\n",
    "g.serialize(destination=studentsDataPath, format='turtle')"
   ]
  },
  {
   "cell_type": "code",
   "execution_count": 101,
   "metadata": {},
   "outputs": [],
   "source": [
    "g = Graph()\n",
    "ex = Namespace(\"http://example.org/vocab/\")\n",
    "foaf = Namespace(\"http://xmlns.com/foaf/0.1/\")\n",
    "rdf = Namespace(\"http://www.w3.org/1999/02/22-rdf-syntax-ns#\")\n",
    "rdfs = Namespace(\"http://www.w3.org/2000/01/rdf-schema#\")\n",
    "xsd = Namespace(\"http://www.w3.org/2001/XMLSchema#\")\n",
    "g.bind(\"ex\", ex)\n",
    "g.bind(\"foaf\", foaf)\n",
    "g.bind(\"rdf\", rdf)\n",
    "g.bind(\"rdfs\", rdfs)\n",
    "g.bind(\"xsd\", xsd)"
   ]
  },
  {
   "cell_type": "code",
   "execution_count": 102,
   "metadata": {},
   "outputs": [
    {
     "data": {
      "text/plain": [
       "<Graph identifier=Nc197def27d334efc88e34cca5e196021 (<class 'rdflib.graph.Graph'>)>"
      ]
     },
     "execution_count": 102,
     "metadata": {},
     "output_type": "execute_result"
    }
   ],
   "source": [
    "lectures_df = pd.read_csv(lecturescsv)\n",
    "for index, row in lectures_df.iterrows():\n",
    "    lecture_uri = ex[f'lecture/{row[\"CourseNumber\"]}/{row[\"LectureNumber\"]}']\n",
    "    g.add((lecture_uri, RDF.type, ex.Lecture))\n",
    "    g.add((lecture_uri, ex.lectureNumber, Literal(row['LectureNumber'], datatype=XSD.integer)))\n",
    "    g.add((lecture_uri, ex.lectureName, Literal(row['LectureName'], datatype=XSD.string)))\n",
    "    course_uri = ex[f'course/{row[\"CourseNumber\"]}']\n",
    "    g.add((lecture_uri, ex.isPartOf, course_uri))\n",
    "    g.add((lecture_uri, ex.lectureContentLink, URIRef(row['ContentLink'])))\n",
    "    content_type_uri = {\n",
    "        \"Slides\": ex.Slides,\n",
    "        \"Worksheets\": ex.Worksheets,\n",
    "        \"Readings\": ex.Readings,\n",
    "        \"Other Material\": ex.OtherMaterial\n",
    "    }.get(row['LectureContent'], ex.LectureContent)\n",
    "    g.add((lecture_uri, RDF.type, content_type_uri))\n",
    "\n",
    "g.serialize(destination=lectureDataPath, format='turtle')"
   ]
  },
  {
   "cell_type": "code",
   "execution_count": null,
   "metadata": {},
   "outputs": [],
   "source": [
    "g = Graph()\n",
    "ex = Namespace(\"http://example.org/vocab/\")\n",
    "foaf = Namespace(\"http://xmlns.com/foaf/0.1/\")\n",
    "rdf = Namespace(\"http://www.w3.org/1999/02/22-rdf-syntax-ns#\")\n",
    "rdfs = Namespace(\"http://www.w3.org/2000/01/rdf-schema#\")\n",
    "xsd = Namespace(\"http://www.w3.org/2001/XMLSchema#\")\n",
    "g.bind(\"ex\", ex)\n",
    "g.bind(\"foaf\", foaf)\n",
    "g.bind(\"rdf\", rdf)\n",
    "g.bind(\"rdfs\", rdfs)\n",
    "g.bind(\"xsd\", xsd)"
   ]
  },
  {
   "cell_type": "code",
   "execution_count": null,
   "metadata": {},
   "outputs": [],
   "source": []
  }
 ],
 "metadata": {
  "kernelspec": {
   "display_name": "Python 3",
   "language": "python",
   "name": "python3"
  },
  "language_info": {
   "codemirror_mode": {
    "name": "ipython",
    "version": 3
   },
   "file_extension": ".py",
   "mimetype": "text/x-python",
   "name": "python",
   "nbconvert_exporter": "python",
   "pygments_lexer": "ipython3",
   "version": "3.9.6"
  }
 },
 "nbformat": 4,
 "nbformat_minor": 2
}
