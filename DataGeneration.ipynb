{
 "cells": [
  {
   "cell_type": "code",
   "execution_count": 225,
   "metadata": {},
   "outputs": [],
   "source": [
    "import pandas as pd\n",
    "from rdflib import Graph, Literal, RDF, URIRef, Namespace, BNode\n",
    "from rdflib.namespace import XSD\n",
    "import urllib.parse\n",
    "import csv"
   ]
  },
  {
   "cell_type": "code",
   "execution_count": 226,
   "metadata": {},
   "outputs": [],
   "source": [
    "#CSV Files:\n",
    "coursecsv = 'CSVs/data.csv'\n",
    "studentcsv = 'CSVs/students.csv'\n",
    "lecturescsv = 'CSVs/lectures.csv'\n",
    "topicscsv = 'CSVs/topics.csv'\n",
    "\n",
    "# TTL Files: (Generated)\n",
    "dataPath = 'Data/data.ttl'\n",
    "coursePath = 'Data/courses.ttl'\n",
    "studentPath = 'Data/students.ttl'\n",
    "lecturesPath = 'Data/lectures.ttl'\n",
    "topicsPath = 'Data/topics.ttl'"
   ]
  },
  {
   "cell_type": "code",
   "execution_count": 227,
   "metadata": {},
   "outputs": [],
   "source": [
    "g = Graph()\n",
    "ex = Namespace(\"http://example.org/vocab/\")\n",
    "foaf = Namespace(\"http://xmlns.com/foaf/0.1/\")\n",
    "rdf = Namespace(\"http://www.w3.org/1999/02/22-rdf-syntax-ns#\")\n",
    "rdfs = Namespace(\"http://www.w3.org/2000/01/rdf-schema#\")\n",
    "xsd = Namespace(\"http://www.w3.org/2001/XMLSchema#\")\n",
    "g.bind(\"ex\", ex)\n",
    "g.bind(\"foaf\", foaf)\n",
    "g.bind(\"rdf\", rdf)\n",
    "g.bind(\"rdfs\", rdfs)\n",
    "g.bind(\"xsd\", xsd)"
   ]
  },
  {
   "cell_type": "markdown",
   "metadata": {},
   "source": [
    "# Course Data (From Concordia Open Data):"
   ]
  },
  {
   "cell_type": "code",
   "execution_count": 228,
   "metadata": {},
   "outputs": [
    {
     "data": {
      "text/plain": [
       "<Graph identifier=N061660d5a19a43e696efc1ed3034a31a (<class 'rdflib.graph.Graph'>)>"
      ]
     },
     "execution_count": 228,
     "metadata": {},
     "output_type": "execute_result"
    }
   ],
   "source": [
    "catalog_df = pd.read_csv(coursecsv, encoding='utf-16')\n",
    "for index, row in catalog_df.iterrows():\n",
    "    course_id_str = str(row['Course ID'])\n",
    "    course_uri = URIRef(f\"http://example.org/vocab/course/{urllib.parse.quote(course_id_str)}\")\n",
    "    g.add((course_uri, RDF.type, ex.Course))\n",
    "    g.add((course_uri, ex.subject, Literal(row['Subject'], datatype=XSD.string)))\n",
    "    g.add((course_uri, ex.number, Literal(row['Catalog'], datatype=XSD.string)))\n",
    "    g.add((course_uri, ex.description, Literal(row['Long Title'], datatype=XSD.string)))\n",
    "    g.add((course_uri, ex.credits, Literal(row['Class Units'], datatype=XSD.decimal)))\n",
    "    if not pd.isnull(row['Pre Requisite Description']):\n",
    "        g.add((course_uri, ex.preRequisiteDescription, Literal(row['Pre Requisite Description'], datatype=XSD.string)))\n",
    "    if not pd.isnull(row['Equivalent Courses']):\n",
    "        g.add((course_uri, ex.equivalentCourses, Literal(row['Equivalent Courses'], datatype=XSD.string)))\n",
    "\n",
    "\n",
    "g.serialize(destination=coursePath, format='turtle')"
   ]
  },
  {
   "cell_type": "markdown",
   "metadata": {},
   "source": [
    "# Students"
   ]
  },
  {
   "cell_type": "code",
   "execution_count": 229,
   "metadata": {},
   "outputs": [],
   "source": [
    "g = Graph()\n",
    "ex = Namespace(\"http://example.org/vocab/\")\n",
    "foaf = Namespace(\"http://xmlns.com/foaf/0.1/\")\n",
    "rdf = Namespace(\"http://www.w3.org/1999/02/22-rdf-syntax-ns#\")\n",
    "rdfs = Namespace(\"http://www.w3.org/2000/01/rdf-schema#\")\n",
    "xsd = Namespace(\"http://www.w3.org/2001/XMLSchema#\")\n",
    "g.bind(\"ex\", ex)\n",
    "g.bind(\"foaf\", foaf)\n",
    "g.bind(\"rdf\", rdf)\n",
    "g.bind(\"rdfs\", rdfs)\n",
    "g.bind(\"xsd\", xsd)"
   ]
  },
  {
   "cell_type": "code",
   "execution_count": 230,
   "metadata": {},
   "outputs": [
    {
     "data": {
      "text/plain": [
       "<Graph identifier=N7d54c6fdde954bcf98d224038e1601ac (<class 'rdflib.graph.Graph'>)>"
      ]
     },
     "execution_count": 230,
     "metadata": {},
     "output_type": "execute_result"
    }
   ],
   "source": [
    "students_df = pd.read_csv(studentcsv)\n",
    "for index, row in students_df.iterrows():\n",
    "    student_uri = ex[f'student/{urllib.parse.quote(row[\"id_number\"])}']\n",
    "    g.add((student_uri, RDF.type, ex.Student))\n",
    "    g.add((student_uri, foaf.name, Literal(f\"{row['first_name']} {row['last_name']}\", datatype=XSD.string)))\n",
    "    g.add((student_uri, foaf.mbox, Literal(row['email'], datatype=XSD.string)))\n",
    "    g.add((student_uri, ex.studentID, Literal(row['id_number'], datatype=XSD.string)))\n",
    "\n",
    "    for i in range(1, 5):  \n",
    "        course_uri = ex[f'course/{row[f\"course_{i}_id\"]}']\n",
    "        grade = row[f\"course_{i}_grade\"]\n",
    "        course_completion = BNode()\n",
    "        g.add((student_uri, ex.completedCourse, course_completion))\n",
    "        g.add((course_completion, RDF.type, URIRef(\"http://example.org/vocab/CompletedCourse\")))\n",
    "        g.add((course_completion, ex.course, course_uri))\n",
    "        g.add((course_completion, ex.courseGrade, Literal(grade, datatype=XSD.string)))\n",
    "    \n",
    "    for comp_field in ['competent_in_course_id1', 'competent_in_course_id2']:\n",
    "        competency_course_uri = ex[f'course/{row[comp_field]}']\n",
    "        g.add((student_uri, ex.hasCompetency, competency_course_uri))\n",
    "\n",
    "\n",
    "g.serialize(destination=studentPath, format='turtle')"
   ]
  },
  {
   "cell_type": "markdown",
   "metadata": {},
   "source": [
    "# Lecture"
   ]
  },
  {
   "cell_type": "code",
   "execution_count": 231,
   "metadata": {},
   "outputs": [],
   "source": [
    "g = Graph()\n",
    "ex = Namespace(\"http://example.org/vocab/\")\n",
    "foaf = Namespace(\"http://xmlns.com/foaf/0.1/\")\n",
    "rdf = Namespace(\"http://www.w3.org/1999/02/22-rdf-syntax-ns#\")\n",
    "rdfs = Namespace(\"http://www.w3.org/2000/01/rdf-schema#\")\n",
    "xsd = Namespace(\"http://www.w3.org/2001/XMLSchema#\")\n",
    "g.bind(\"ex\", ex)\n",
    "g.bind(\"foaf\", foaf)\n",
    "g.bind(\"rdf\", rdf)\n",
    "g.bind(\"rdfs\", rdfs)\n",
    "g.bind(\"xsd\", xsd)"
   ]
  },
  {
   "cell_type": "code",
   "execution_count": 232,
   "metadata": {},
   "outputs": [
    {
     "data": {
      "text/plain": [
       "<Graph identifier=Nd45c97ac75334f3c877e3651c628f1bd (<class 'rdflib.graph.Graph'>)>"
      ]
     },
     "execution_count": 232,
     "metadata": {},
     "output_type": "execute_result"
    }
   ],
   "source": [
    "lectures_df = pd.read_csv(lecturescsv)\n",
    "for index, row in lectures_df.iterrows():\n",
    "    # Create a URI for the lecture based on its ID\n",
    "    lecture_uri = URIRef(f\"http://example.org/vocab/lecture/{urllib.parse.quote(str(row['LectureID']))}\")\n",
    "    \n",
    "    g.add((lecture_uri, RDF.type, ex.Lecture))\n",
    "    \n",
    "    course_uri = URIRef(f\"http://example.org/vocab/course/{urllib.parse.quote(str(row['CourseID']))}\")\n",
    "    g.add((lecture_uri, ex.isPartOfCourse, course_uri))\n",
    "    \n",
    "    g.add((lecture_uri, ex.lectureNumber, Literal(row['LectureNumber'], datatype=XSD.integer)))\n",
    "    g.add((lecture_uri, ex.lectureName, Literal(row['LectureName'], datatype=XSD.string)))\n",
    "    g.add((lecture_uri, ex.lectureContentLink, Literal(row['ContentLink'], datatype=XSD.anyURI)))\n",
    "    g.add((lecture_uri, rdfs.seeAlso, URIRef(row['SeeAlsoLink'])))\n",
    "\n",
    "g.serialize(destination=lecturesPath, format='turtle')\n"
   ]
  },
  {
   "cell_type": "markdown",
   "metadata": {},
   "source": [
    "# Topics"
   ]
  },
  {
   "cell_type": "code",
   "execution_count": 233,
   "metadata": {},
   "outputs": [],
   "source": [
    "g = Graph()\n",
    "ex = Namespace(\"http://example.org/vocab/\")\n",
    "foaf = Namespace(\"http://xmlns.com/foaf/0.1/\")\n",
    "rdf = Namespace(\"http://www.w3.org/1999/02/22-rdf-syntax-ns#\")\n",
    "rdfs = Namespace(\"http://www.w3.org/2000/01/rdf-schema#\")\n",
    "xsd = Namespace(\"http://www.w3.org/2001/XMLSchema#\")\n",
    "g.bind(\"ex\", ex)\n",
    "g.bind(\"foaf\", foaf)\n",
    "g.bind(\"rdf\", rdf)\n",
    "g.bind(\"rdfs\", rdfs)\n",
    "g.bind(\"xsd\", xsd)"
   ]
  },
  {
   "cell_type": "code",
   "execution_count": 234,
   "metadata": {},
   "outputs": [
    {
     "data": {
      "text/plain": [
       "<Graph identifier=Nc02a4c2d84b6445fa61d20db17ef42eb (<class 'rdflib.graph.Graph'>)>"
      ]
     },
     "execution_count": 234,
     "metadata": {},
     "output_type": "execute_result"
    }
   ],
   "source": [
    "topics_df = pd.read_csv(topicscsv)\n",
    "for index, row in topics_df.iterrows():\n",
    "    topic_uri = URIRef(f\"http://example.org/vocab/topic/{urllib.parse.quote(str(row['TopicID']))}\")\n",
    "    g.add((topic_uri, RDF.type, ex.Topic))\n",
    "    g.add((topic_uri, ex.topicName, Literal(row['TopicName'], datatype=XSD.string)))\n",
    "    g.add((topic_uri, ex.topicProvenance, Literal(row['TopicProvenance'], datatype=XSD.string)))\n",
    "    g.add((topic_uri, ex.topicLink, URIRef(row['TopicLink'])))\n",
    "    lecture_uri = URIRef(f\"http://example.org/vocab/lecture/{urllib.parse.quote(str(row['LectureID']))}\")\n",
    "    g.add((topic_uri, ex.isTopicOfLecture, lecture_uri))\n",
    "    course_uri = URIRef(f\"http://example.org/vocab/course/{urllib.parse.quote(str(row['CourseID']))}\")\n",
    "    g.add((topic_uri, ex.isTopicOfCourse, course_uri))\n",
    "\n",
    "g.serialize(destination=topicsPath, format='turtle')"
   ]
  }
 ],
 "metadata": {
  "kernelspec": {
   "display_name": "Python 3",
   "language": "python",
   "name": "python3"
  },
  "language_info": {
   "codemirror_mode": {
    "name": "ipython",
    "version": 3
   },
   "file_extension": ".py",
   "mimetype": "text/x-python",
   "name": "python",
   "nbconvert_exporter": "python",
   "pygments_lexer": "ipython3",
   "version": "3.9.6"
  }
 },
 "nbformat": 4,
 "nbformat_minor": 2
}
