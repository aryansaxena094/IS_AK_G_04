{
 "cells": [
  {
   "cell_type": "code",
   "execution_count": 1,
   "metadata": {},
   "outputs": [],
   "source": [
    "import pandas as pd\n",
    "from rdflib import Graph, Literal, RDF, URIRef, Namespace\n",
    "from rdflib.namespace import XSD\n",
    "import urllib.parse"
   ]
  },
  {
   "cell_type": "code",
   "execution_count": 2,
   "metadata": {},
   "outputs": [],
   "source": [
    "courseDataPath = 'Data/Courses.ttl'\n",
    "studentsDataPath = 'Data/Students.ttl'\n",
    "lectureDataPath = 'Data/Lectures.ttl'\n",
    "topicDataPath = 'Data/Topics.ttl'"
   ]
  },
  {
   "cell_type": "code",
   "execution_count": 3,
   "metadata": {},
   "outputs": [],
   "source": [
    "g = Graph()\n",
    "ex = Namespace(\"http://example.org/vocab/\")\n",
    "foaf = Namespace(\"http://xmlns.com/foaf/0.1/\")\n",
    "rdf = Namespace(\"http://www.w3.org/1999/02/22-rdf-syntax-ns#\")\n",
    "rdfs = Namespace(\"http://www.w3.org/2000/01/rdf-schema#\")\n",
    "xsd = Namespace(\"http://www.w3.org/2001/XMLSchema#\")\n",
    "g.bind(\"ex\", ex)\n",
    "g.bind(\"foaf\", foaf)\n",
    "g.bind(\"rdf\", rdf)\n",
    "g.bind(\"rdfs\", rdfs)\n",
    "g.bind(\"xsd\", xsd)"
   ]
  },
  {
   "cell_type": "code",
   "execution_count": 4,
   "metadata": {},
   "outputs": [
    {
     "data": {
      "text/plain": [
       "<Graph identifier=Na7ffffdddecc40588ef86d3336a4bb0f (<class 'rdflib.graph.Graph'>)>"
      ]
     },
     "execution_count": 4,
     "metadata": {},
     "output_type": "execute_result"
    }
   ],
   "source": [
    "catalog_df = pd.read_csv('Concordia_Data/data.csv', encoding='utf-16')\n",
    "for index, row in catalog_df.iterrows():\n",
    "    course_id_str = str(row['Course ID'])\n",
    "    course_uri = URIRef(f\"http://example.org/vocab/course/{urllib.parse.quote(course_id_str)}\")\n",
    "    g.add((course_uri, RDF.type, ex.Course))\n",
    "    g.add((course_uri, ex.subject, Literal(row['Subject'], datatype=XSD.string)))\n",
    "    g.add((course_uri, ex.number, Literal(row['Catalog'], datatype=XSD.string)))\n",
    "    g.add((course_uri, ex.description, Literal(row['Long Title'], datatype=XSD.string)))\n",
    "    g.add((course_uri, ex.credits, Literal(row['Class Units'], datatype=XSD.decimal)))\n",
    "    if not pd.isnull(row['Pre Requisite Description']):\n",
    "        g.add((course_uri, ex.preRequisiteDescription, Literal(row['Pre Requisite Description'], datatype=XSD.string)))\n",
    "    if not pd.isnull(row['Equivalent Courses']):\n",
    "        g.add((course_uri, ex.equivalentCourses, Literal(row['Equivalent Courses'], datatype=XSD.string)))\n",
    "g.serialize(destination=courseDataPath, format='turtle')"
   ]
  },
  {
   "cell_type": "code",
   "execution_count": null,
   "metadata": {},
   "outputs": [],
   "source": []
  }
 ],
 "metadata": {
  "kernelspec": {
   "display_name": "Python 3",
   "language": "python",
   "name": "python3"
  },
  "language_info": {
   "codemirror_mode": {
    "name": "ipython",
    "version": 3
   },
   "file_extension": ".py",
   "mimetype": "text/x-python",
   "name": "python",
   "nbconvert_exporter": "python",
   "pygments_lexer": "ipython3",
   "version": "3.9.6"
  }
 },
 "nbformat": 4,
 "nbformat_minor": 2
}
